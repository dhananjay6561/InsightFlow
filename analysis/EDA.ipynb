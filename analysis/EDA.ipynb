{
 "cells": [
  {
   "cell_type": "code",
   "execution_count": 1,
   "metadata": {},
   "outputs": [],
   "source": [
    "import pandas as pd \n",
    "import numpy as np\n",
    "\n",
    "from analyze_src.basic_data_inspection import DataInspector, DataTypeInspectionStrategy, SummaryStatisticsInspectionStrategy\n",
    "from analyze_src.missing_values_analysis import SimpleMissingValuesAnalysis\n",
    "from analyze_src.univariate_analysis import SimpleUnivariateAnalysisStrategy, CategoricalUnivariateAnalysis,UnivariateAnalyzer\n",
    "\n",
    "pd.set_option('display.max_columns', None)  \n",
    "pd.set_option('display.max_rows', 100)"
   ]
  },
  {
   "cell_type": "code",
   "execution_count": 2,
   "metadata": {},
   "outputs": [],
   "source": [
    "data_path = 'D:\\OneDrive - Student Ambassadors\\Old Data\\Coding\\InsightFlow\\extracted_data\\AmesHousing.csv'\n",
    "df = pd.read_csv(data_path)"
   ]
  },
  {
   "cell_type": "code",
   "execution_count": null,
   "metadata": {},
   "outputs": [],
   "source": [
    "##Basic Data Inspection\n",
    "\n",
    "data_inspector = DataInspector(DataTypeInspectionStrategy())\n",
    "data_inspector.execute_inspection(df)"
   ]
  },
  {
   "cell_type": "code",
   "execution_count": null,
   "metadata": {},
   "outputs": [],
   "source": [
    "data_inspector.set_strategy(SummaryStatisticsInspectionStrategy())\n",
    "data_inspector.execute_inspection(df)"
   ]
  },
  {
   "cell_type": "code",
   "execution_count": null,
   "metadata": {},
   "outputs": [],
   "source": [
    "##Missing Values Analysis\n",
    "\n",
    "missing_values_analyzer = SimpleMissingValuesAnalysis()\n",
    "missing_values_analyzer.analyze(df)"
   ]
  },
  {
   "cell_type": "markdown",
   "metadata": {},
   "source": [
    "# Missing Values Heatmap Insights\n",
    "\n",
    "#### **1. Colors Represent Missingness:**\n",
    "- **Yellow**: Represents missing values. The more yellow you see in a column, the more missing data is present in that particular feature.\n",
    "- **Purple (or dark color)**: Represents non-missing values. Columns that are mostly purple indicate that most of the data is present for that feature.\n",
    "\n",
    "#### **2. Identifying Columns with Missing Data:**\n",
    "- Look for columns with significant amounts of yellow. These columns have a higher proportion of missing data.\n",
    "  - For instance, in your heatmap, columns like `Lot Frontage`, `Mas Vnr Type`, `Mas Vnr Area`, `Garage Yr Blt`, and `Pool Area` have substantial yellow, indicating that these features have missing values.\n",
    "\n",
    "#### **3. Understanding the Distribution of Missing Data:**\n",
    "- **Randomly Distributed**: If the yellow marks are scattered without any noticeable pattern, it suggests that the missing data might be randomly distributed.\n",
    "- **Structured Missingness**: If the yellow is clustered in certain rows or columns, it might indicate a non-random pattern of missingness. For example, entire rows or columns missing could suggest a data collection issue or that these features are not applicable in certain cases.\n",
    "\n",
    "#### **4. Assessing the Severity:**\n",
    "- Columns with more yellow indicate a higher proportion of missing values, which might pose a problem for model building. This could lead to biased or inaccurate models if not handled properly.\n",
    "  - In your heatmap, some columns have little to no missing values, while others have substantial missingness. Decisions will need to be made on whether to impute, drop, or handle these features differently."
   ]
  },
  {
   "cell_type": "markdown",
   "metadata": {},
   "source": [
    "# Insights \n",
    "\n",
    "\n",
    "#### **1. Data Types and Non-null Counts:**\n",
    "- The dataset contains **2930 entries** and **82 columns**.\n",
    "- **Data Types**: There are 11 columns with `float64` data type, 28 columns with `int64` data type, and 43 columns with `object` data type.\n",
    "  - **Numerical Features**: These include features like `Lot Frontage`, `Lot Area`, `Overall Qual`, `Year Built`, etc.\n",
    "  - **Categorical Features**: Features like `MS Zoning`, `Street`, `Neighborhood`, `Bldg Type`, etc., are categorical.\n",
    "\n",
    "#### **2. Summary Statistics:**\n",
    "- **Numerical Features**:\n",
    "  - The target variable `SalePrice` has a mean of **$180,796** with a standard deviation of **$79,886**, indicating a significant spread in house prices.\n",
    "  - `Overall Qual` (quality of the house) ranges from **1 to 10**, with a mean of **6.09**, showing a relatively high quality on average.\n",
    "  - `Year Built` ranges from **1872 to 2010**, indicating that the dataset includes both very old and relatively new houses.\n",
    "  - `Lot Area` has a wide range, with some extreme outliers (maximum of **215,245 sq ft**), which might indicate large properties.\n",
    "  - The distribution of `Gr Liv Area` (above ground living area) shows a mean of **1499 sq ft** with a wide range, which could significantly impact `SalePrice`.\n",
    "\n",
    "- **Categorical Features**:\n",
    "  - **Neighborhood** has **28 unique values**, with `NAmes` being the most common, suggesting some neighborhoods might dominate the dataset.\n",
    "  - **MS Zoning** is mostly `RL` (residential low-density), with **7 unique zoning types**.\n",
    "  - `Alley` has a high frequency of missing values (discussed below).\n",
    "  - Several features related to basements, garages, and exterior quality vary significantly, which will be crucial in predicting `SalePrice`.\n",
    "\n",
    "#### **3. Missing Values Analysis:**\n",
    "- **Columns with Significant Missing Values**:\n",
    "  - `Alley` has **2732 missing values** (93.4% missing), making it almost unusable without imputation or transformation.\n",
    "  - `Pool QC` (pool quality) has **2917 missing values** (99.5% missing), indicating that very few houses have pools.\n",
    "  - `Fence` has **2358 missing values** (80.5% missing), suggesting that many houses do not have a fence or it was not recorded.\n",
    "  - `Misc Feature` has **2824 missing values** (96.4% missing), indicating that most houses do not have miscellaneous features, or they were not recorded.\n",
    "\n",
    "- **Columns with Moderate Missing Values**:\n",
    "  - `Garage Type`, `Garage Yr Blt`, `Garage Finish`, `Garage Qual`, `Garage Cond` each have **159 missing values** (~5.4%), likely corresponding to houses without garages.\n",
    "  - `Bsmt Qual`, `Bsmt Cond`, `Bsmt Exposure`, `BsmtFin Type 1`, `BsmtFin Type 2` each have **around 80 missing values** (~2.7%), likely representing houses without basements.\n",
    "  - `Mas Vnr Type` (masonry veneer type) has **1775 missing values** (~60.6%), and `Mas Vnr Area` has **23 missing values**. This might indicate many houses do not have masonry veneer.\n",
    "\n",
    "- **Single Missing Values**:\n",
    "  - Several features, such as `BsmtFin SF 1`, `Total Bsmt SF`, `Electrical`, `Garage Cars`, `Garage Area`, etc., have only one or two missing values, which can likely be imputed without much impact.\n",
    "\n",
    "### **Issues to be Addressed Later**\n",
    "\n",
    "1. **Handling Missing Data:**\n",
    "   - **Significant Missing Values**: Columns like `Alley`, `Pool QC`, `Fence`, and `Misc Feature` have a very high percentage of missing data. Decisions need to be made whether to:\n",
    "     - Drop these columns entirely, as they might not add significant value.\n",
    "     - Impute missing values with a placeholder (e.g., \"None\" or \"No Pool\") to retain them in the analysis.\n",
    "   - **Moderate Missing Values**: Features related to basements and garages will require careful handling. Missing values could be filled with \"No Basement\" or \"No Garage\" for categorical features, and zeros for numerical ones.\n",
    "   - **Single Missing Values**: These can likely be filled with the mode or mean for categorical and numerical features, respectively.\n",
    "\n",
    "2. **Outlier Detection and Handling**:\n",
    "   - Features like `Lot Area`, `Gr Liv Area`, and `SalePrice` show a significant range, indicating potential outliers. These will need to be detected and handled appropriately to avoid skewing model predictions.\n",
    "\n",
    "3. **Categorical Encoding**:\n",
    "   - Categorical features like `Neighborhood`, `MS Zoning`, `Bldg Type`, and `Exterior 1st` have many unique values. Decisions need to be made on how to encode these (e.g., one-hot encoding, label encoding, or frequency encoding) based on their relationship with the target variable.\n",
    "\n",
    "4. **Feature Engineering**:\n",
    "   - Based on the insights, certain features might need to be engineered (e.g., combining related features, creating interaction terms, or transforming skewed features) to better capture the relationships in the data.\n",
    "\n",
    "5. **Correlation and Multicollinearity**:\n",
    "   - Initial correlation analysis suggests that some features might be highly correlated with each other (e.g., basement-related features). This could lead to multicollinearity issues, which need to be addressed during feature selection."
   ]
  },
  {
   "cell_type": "code",
   "execution_count": null,
   "metadata": {},
   "outputs": [],
   "source": [
    "##Univariate Analysis of Numerical Features(SalePrice)\n",
    "univariate_analyzer = UnivariateAnalyzer(SimpleUnivariateAnalysisStrategy())\n",
    "univariate_analyzer.analyze(df, 'SalePrice')"
   ]
  },
  {
   "cell_type": "code",
   "execution_count": null,
   "metadata": {},
   "outputs": [],
   "source": [
    "##Univariate Analysis of Categorical Features\n",
    "univariate_analyzer.set_strategy(CategoricalUnivariateAnalysis())\n",
    "univariate_analyzer.analyze(df, 'Neighborhood')"
   ]
  },
  {
   "cell_type": "code",
   "execution_count": 8,
   "metadata": {},
   "outputs": [
    {
     "name": "stdout",
     "output_type": "stream",
     "text": [
      "Github test\n"
     ]
    }
   ],
   "source": [
    "print('Github test')"
   ]
  },
  {
   "cell_type": "code",
   "execution_count": null,
   "metadata": {},
   "outputs": [],
   "source": []
  }
 ],
 "metadata": {
  "kernelspec": {
   "display_name": "insightflow",
   "language": "python",
   "name": "python3"
  },
  "language_info": {
   "codemirror_mode": {
    "name": "ipython",
    "version": 3
   },
   "file_extension": ".py",
   "mimetype": "text/x-python",
   "name": "python",
   "nbconvert_exporter": "python",
   "pygments_lexer": "ipython3",
   "version": "3.11.7"
  }
 },
 "nbformat": 4,
 "nbformat_minor": 2
}
